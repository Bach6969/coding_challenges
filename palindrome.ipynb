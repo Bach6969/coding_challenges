{
 "cells": [
  {
   "cell_type": "code",
   "execution_count": null,
   "id": "aeeed6d1",
   "metadata": {},
   "outputs": [],
   "source": [
    "def test_palindrome():\n",
    "    print(\"Testing palindrome function...\")\n",
    "    print(\"-\" * 30)\n",
    "\n",
    "    test_cases = [\n",
    "        \"racecar\",\n",
    "        \"hello\",\n",
    "        \"A man, a plan, a canal: Panama\",\n",
    "        \"No 'x' in Nixon\",\n",
    "        \"Was it a car or a cat I saw?\",\n",
    "        \"Not a palindrome\",\n",
    "        \"Able was I ere I saw Elba\",\n",
    "        \"12321\",\n",
    "        \"12345\",\n",
    "        \"A Santa at NASA\",\n",
    "    ]\n",
    "\n",
    "    for test in test_cases:\n",
    "        result = is_palindrome(test)\n",
    "        print(f'is_palindrome(\"{test}\") -> {result}')"
   ]
  }
 ],
 "metadata": {
  "kernelspec": {
   "display_name": "Python 3",
   "language": "python",
   "name": "python3"
  },
  "language_info": {
   "codemirror_mode": {
    "name": "ipython",
    "version": 3
   },
   "file_extension": ".py",
   "mimetype": "text/x-python",
   "name": "python",
   "nbconvert_exporter": "python",
   "pygments_lexer": "ipython3",
   "version": "3.13.5"
  }
 },
 "nbformat": 4,
 "nbformat_minor": 5
}
