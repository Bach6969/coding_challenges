{
 "cells": [
  {
   "cell_type": "code",
   "execution_count": 2,
   "id": "eaf693c3",
   "metadata": {},
   "outputs": [
    {
     "name": "stdout",
     "output_type": "stream",
     "text": [
      "Khoor, Zruog!\n",
      "Hello, World!\n",
      "cdeZAB\n",
      "Rd Sfrj nx Gfhm\n"
     ]
    }
   ],
   "source": [
    "def caesar_cipher(text, shift):\n",
    "    result = \"\"\n",
    "\n",
    "    for char in text:\n",
    "        if char.isalpha():\n",
    "            if char.isupper():\n",
    "                char_num = ord(char) - ord('A')\n",
    "                shifted_num = (char_num + shift) % 26\n",
    "                shifted_char = chr(shifted_num + ord('A'))\n",
    "            else:\n",
    "                char_num = ord(char) - ord('a')\n",
    "                shifted_num = (char_num + shift) % 26\n",
    "                shifted_char = chr(shifted_num + ord('a'))\n",
    "            result += shifted_char\n",
    "        else:\n",
    "            result += char\n",
    "    return result\n",
    "\n",
    "print(caesar_cipher(\"Hello, World!\", 3))  \n",
    "print(caesar_cipher(\"Khoor, Zruog!\", -3))\n",
    "print(caesar_cipher(\"abcXYZ\", 2))\n",
    "print(caesar_cipher(\"My Name is Bach\", 5))"
   ]
  }
 ],
 "metadata": {
  "kernelspec": {
   "display_name": "Python 3",
   "language": "python",
   "name": "python3"
  },
  "language_info": {
   "codemirror_mode": {
    "name": "ipython",
    "version": 3
   },
   "file_extension": ".py",
   "mimetype": "text/x-python",
   "name": "python",
   "nbconvert_exporter": "python",
   "pygments_lexer": "ipython3",
   "version": "3.13.5"
  }
 },
 "nbformat": 4,
 "nbformat_minor": 5
}
