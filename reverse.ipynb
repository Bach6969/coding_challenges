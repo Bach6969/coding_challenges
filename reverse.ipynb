{
 "cells": [
  {
   "cell_type": "code",
   "execution_count": 3,
   "id": "641f64e0",
   "metadata": {},
   "outputs": [
    {
     "name": "stdout",
     "output_type": "stream",
     "text": [
      "original: Hello, World!\n",
      "Reversed: !dlroW ,olleH\n",
      "'' -> ''\n",
      "'a' -> 'a'\n",
      "'abc' -> 'cba'\n",
      "'racecar' -> 'racecar'\n",
      "'12345' -> '54321'\n",
      "'A man a plan a canal Panama' -> 'amanaP lanac a nalp a nam A'\n"
     ]
    }
   ],
   "source": [
    "def reverse_string(test_string):\n",
    "    return test_string[::-1]\n",
    "\n",
    "if __name__ == \"__main__\":\n",
    "    test_string = \"Hello, World!\"\n",
    "\n",
    "    print(f\"original: {test_string}\")\n",
    "    print(f\"Reversed: {reverse_string(test_string)}\")\n",
    "\n",
    "    test_cases = [\"\", \"a\", \"abc\", \"racecar\", \"12345\", \"A man a plan a canal Panama\"]\n",
    "\n",
    "    for test in test_cases:\n",
    "        print(f\"'{test}' -> '{reverse_string(test)}'\")"
   ]
  }
 ],
 "metadata": {
  "kernelspec": {
   "display_name": "Python 3",
   "language": "python",
   "name": "python3"
  },
  "language_info": {
   "codemirror_mode": {
    "name": "ipython",
    "version": 3
   },
   "file_extension": ".py",
   "mimetype": "text/x-python",
   "name": "python",
   "nbconvert_exporter": "python",
   "pygments_lexer": "ipython3",
   "version": "3.13.5"
  }
 },
 "nbformat": 4,
 "nbformat_minor": 5
}
